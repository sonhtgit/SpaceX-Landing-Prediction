{
 "cells": [
  {
   "cell_type": "code",
   "execution_count": 1,
   "id": "f232122d-e123-46c2-867b-41251f82459e",
   "metadata": {},
   "outputs": [
    {
     "name": "stdout",
     "output_type": "stream",
     "text": [
      "Downloaded: 2476 bytes\n"
     ]
    }
   ],
   "source": [
    "import requests\n",
    "\n",
    "url = \"https://cf-courses-data.s3.us.cloud-object-storage.appdomain.cloud/IBM-DS0321EN-SkillsNetwork/datasets/spacex_launch_dash.csv\"\n",
    "r   = requests.get(url)\n",
    "with open(\"spacex_launch_dash.csv\", \"wb\") as f:\n",
    "    f.write(r.content)\n",
    "print(\"Downloaded:\", len(r.content), \"bytes\")\n"
   ]
  },
  {
   "cell_type": "code",
   "execution_count": 2,
   "id": "835b7c61-c00c-4f64-aeda-82471219262c",
   "metadata": {},
   "outputs": [
    {
     "name": "stdout",
     "output_type": "stream",
     "text": [
      "Collecting dash\n",
      "  Downloading dash-3.1.1-py3-none-any.whl.metadata (10 kB)\n",
      "Requirement already satisfied: pandas in c:\\users\\nam\\appdata\\local\\programs\\python\\python312\\lib\\site-packages (2.2.3)\n",
      "Collecting plotly\n",
      "  Downloading plotly-6.2.0-py3-none-any.whl.metadata (8.5 kB)\n",
      "Collecting Flask<3.2,>=1.0.4 (from dash)\n",
      "  Downloading flask-3.1.1-py3-none-any.whl.metadata (3.0 kB)\n",
      "Requirement already satisfied: Werkzeug<3.2 in c:\\users\\nam\\appdata\\local\\programs\\python\\python312\\lib\\site-packages (from dash) (3.1.3)\n",
      "Collecting importlib-metadata (from dash)\n",
      "  Downloading importlib_metadata-8.7.0-py3-none-any.whl.metadata (4.8 kB)\n",
      "Requirement already satisfied: typing-extensions>=4.1.1 in c:\\users\\nam\\appdata\\local\\programs\\python\\python312\\lib\\site-packages (from dash) (4.12.2)\n",
      "Requirement already satisfied: requests in c:\\users\\nam\\appdata\\local\\programs\\python\\python312\\lib\\site-packages (from dash) (2.31.0)\n",
      "Collecting retrying (from dash)\n",
      "  Downloading retrying-1.4.0-py3-none-any.whl.metadata (7.5 kB)\n",
      "Requirement already satisfied: nest-asyncio in c:\\users\\nam\\appdata\\local\\programs\\python\\python312\\lib\\site-packages (from dash) (1.6.0)\n",
      "Requirement already satisfied: setuptools in c:\\users\\nam\\appdata\\local\\programs\\python\\python312\\lib\\site-packages (from dash) (78.1.0)\n",
      "Requirement already satisfied: numpy>=1.26.0 in c:\\users\\nam\\appdata\\local\\programs\\python\\python312\\lib\\site-packages (from pandas) (1.26.2)\n",
      "Requirement already satisfied: python-dateutil>=2.8.2 in c:\\users\\nam\\appdata\\local\\programs\\python\\python312\\lib\\site-packages (from pandas) (2.8.2)\n",
      "Requirement already satisfied: pytz>=2020.1 in c:\\users\\nam\\appdata\\local\\programs\\python\\python312\\lib\\site-packages (from pandas) (2025.1)\n",
      "Requirement already satisfied: tzdata>=2022.7 in c:\\users\\nam\\appdata\\local\\programs\\python\\python312\\lib\\site-packages (from pandas) (2025.1)\n",
      "Requirement already satisfied: narwhals>=1.15.1 in c:\\users\\nam\\appdata\\local\\programs\\python\\python312\\lib\\site-packages (from plotly) (1.31.0)\n",
      "Requirement already satisfied: packaging in c:\\users\\nam\\appdata\\local\\programs\\python\\python312\\lib\\site-packages (from plotly) (23.2)\n",
      "Collecting blinker>=1.9.0 (from Flask<3.2,>=1.0.4->dash)\n",
      "  Downloading blinker-1.9.0-py3-none-any.whl.metadata (1.6 kB)\n",
      "Requirement already satisfied: click>=8.1.3 in c:\\users\\nam\\appdata\\local\\programs\\python\\python312\\lib\\site-packages (from Flask<3.2,>=1.0.4->dash) (8.2.0)\n",
      "Collecting itsdangerous>=2.2.0 (from Flask<3.2,>=1.0.4->dash)\n",
      "  Downloading itsdangerous-2.2.0-py3-none-any.whl.metadata (1.9 kB)\n",
      "Requirement already satisfied: jinja2>=3.1.2 in c:\\users\\nam\\appdata\\local\\programs\\python\\python312\\lib\\site-packages (from Flask<3.2,>=1.0.4->dash) (3.1.3)\n",
      "Requirement already satisfied: markupsafe>=2.1.1 in c:\\users\\nam\\appdata\\local\\programs\\python\\python312\\lib\\site-packages (from Flask<3.2,>=1.0.4->dash) (2.1.5)\n",
      "Requirement already satisfied: six>=1.5 in c:\\users\\nam\\appdata\\local\\programs\\python\\python312\\lib\\site-packages (from python-dateutil>=2.8.2->pandas) (1.16.0)\n",
      "Collecting zipp>=3.20 (from importlib-metadata->dash)\n",
      "  Downloading zipp-3.23.0-py3-none-any.whl.metadata (3.6 kB)\n",
      "Requirement already satisfied: charset-normalizer<4,>=2 in c:\\users\\nam\\appdata\\local\\programs\\python\\python312\\lib\\site-packages (from requests->dash) (3.3.2)\n",
      "Requirement already satisfied: idna<4,>=2.5 in c:\\users\\nam\\appdata\\local\\programs\\python\\python312\\lib\\site-packages (from requests->dash) (3.6)\n",
      "Requirement already satisfied: urllib3<3,>=1.21.1 in c:\\users\\nam\\appdata\\local\\programs\\python\\python312\\lib\\site-packages (from requests->dash) (2.2.0)\n",
      "Requirement already satisfied: certifi>=2017.4.17 in c:\\users\\nam\\appdata\\local\\programs\\python\\python312\\lib\\site-packages (from requests->dash) (2024.2.2)\n",
      "Requirement already satisfied: colorama in c:\\users\\nam\\appdata\\local\\programs\\python\\python312\\lib\\site-packages (from click>=8.1.3->Flask<3.2,>=1.0.4->dash) (0.4.6)\n",
      "Downloading dash-3.1.1-py3-none-any.whl (7.9 MB)\n",
      "   ---------------------------------------- 0.0/7.9 MB ? eta -:--:--\n",
      "   --- ------------------------------------ 0.8/7.9 MB 3.7 MB/s eta 0:00:02\n",
      "   --------- ------------------------------ 1.8/7.9 MB 4.8 MB/s eta 0:00:02\n",
      "   --------------- ------------------------ 3.1/7.9 MB 5.3 MB/s eta 0:00:01\n",
      "   ---------------------- ----------------- 4.5/7.9 MB 5.5 MB/s eta 0:00:01\n",
      "   ------------------------------- -------- 6.3/7.9 MB 6.1 MB/s eta 0:00:01\n",
      "   ---------------------------------------  7.9/7.9 MB 6.4 MB/s eta 0:00:01\n",
      "   ---------------------------------------- 7.9/7.9 MB 6.3 MB/s eta 0:00:00\n",
      "Downloading plotly-6.2.0-py3-none-any.whl (9.6 MB)\n",
      "   ---------------------------------------- 0.0/9.6 MB ? eta -:--:--\n",
      "   ------- -------------------------------- 1.8/9.6 MB 9.1 MB/s eta 0:00:01\n",
      "   ----------------- ---------------------- 4.2/9.6 MB 10.1 MB/s eta 0:00:01\n",
      "   ------------------------- -------------- 6.0/9.6 MB 9.7 MB/s eta 0:00:01\n",
      "   --------------------------------- ------ 8.1/9.6 MB 9.7 MB/s eta 0:00:01\n",
      "   ---------------------------------------- 9.6/9.6 MB 9.2 MB/s eta 0:00:00\n",
      "Downloading flask-3.1.1-py3-none-any.whl (103 kB)\n",
      "Downloading importlib_metadata-8.7.0-py3-none-any.whl (27 kB)\n",
      "Downloading retrying-1.4.0-py3-none-any.whl (11 kB)\n",
      "Downloading blinker-1.9.0-py3-none-any.whl (8.5 kB)\n",
      "Downloading itsdangerous-2.2.0-py3-none-any.whl (16 kB)\n",
      "Downloading zipp-3.23.0-py3-none-any.whl (10 kB)\n",
      "Installing collected packages: zipp, retrying, plotly, itsdangerous, blinker, importlib-metadata, Flask, dash\n",
      "Successfully installed Flask-3.1.1 blinker-1.9.0 dash-3.1.1 importlib-metadata-8.7.0 itsdangerous-2.2.0 plotly-6.2.0 retrying-1.4.0 zipp-3.23.0\n"
     ]
    },
    {
     "name": "stderr",
     "output_type": "stream",
     "text": [
      "\n",
      "[notice] A new release of pip is available: 25.0.1 -> 25.1.1\n",
      "[notice] To update, run: python.exe -m pip install --upgrade pip\n"
     ]
    }
   ],
   "source": [
    "import sys\n",
    "!{sys.executable} -m pip install dash pandas plotly\n"
   ]
  },
  {
   "cell_type": "code",
   "execution_count": null,
   "id": "df3e61ec-2e3a-4ecb-bb73-32a67b29d85e",
   "metadata": {},
   "outputs": [],
   "source": []
  }
 ],
 "metadata": {
  "kernelspec": {
   "display_name": "Python 3 (ipykernel)",
   "language": "python",
   "name": "python3"
  },
  "language_info": {
   "codemirror_mode": {
    "name": "ipython",
    "version": 3
   },
   "file_extension": ".py",
   "mimetype": "text/x-python",
   "name": "python",
   "nbconvert_exporter": "python",
   "pygments_lexer": "ipython3",
   "version": "3.12.1"
  }
 },
 "nbformat": 4,
 "nbformat_minor": 5
}
