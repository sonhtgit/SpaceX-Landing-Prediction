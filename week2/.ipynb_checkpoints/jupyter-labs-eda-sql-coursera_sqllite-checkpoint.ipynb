{
 "cells": [
  {
   "cell_type": "markdown",
   "metadata": {},
   "source": [
    "<p style=\"text-align:center\">\n",
    "    <a href=\"https://skills.network\" target=\"_blank\">\n",
    "    <img src=\"https://cf-courses-data.s3.us.cloud-object-storage.appdomain.cloud/assets/logos/SN_web_lightmode.png\" width=\"200\" alt=\"Skills Network Logo\">\n",
    "    </a>\n",
    "</p>\n",
    "\n",
    "<h1 align=center><font size = 5>Assignment: SQL Notebook for Peer Assignment</font></h1>\n",
    "\n",
    "Estimated time needed: **60** minutes.\n",
    "\n",
    "## Introduction\n",
    "Using this Python notebook you will:\n",
    "\n",
    "1.  Understand the Spacex DataSet\n",
    "2.  Load the dataset  into the corresponding table in a Db2 database\n",
    "3.  Execute SQL queries to answer assignment questions \n"
   ]
  },
  {
   "cell_type": "markdown",
   "metadata": {},
   "source": [
    "## Overview of the DataSet\n",
    "\n",
    "SpaceX has gained worldwide attention for a series of historic milestones. \n",
    "\n",
    "It is the only private company ever to return a spacecraft from low-earth orbit, which it first accomplished in December 2010.\n",
    "SpaceX advertises Falcon 9 rocket launches on its website with a cost of 62 million dollars wheras other providers cost upward of 165 million dollars each, much of the savings is because Space X can reuse the first stage. \n",
    "\n",
    "\n",
    "Therefore if we can determine if the first stage will land, we can determine the cost of a launch. \n",
    "\n",
    "This information can be used if an alternate company wants to bid against SpaceX for a rocket launch.\n",
    "\n",
    "This dataset includes a record for each payload carried during a SpaceX mission into outer space.\n"
   ]
  },
  {
   "cell_type": "markdown",
   "metadata": {},
   "source": [
    "### Download the datasets\n",
    "\n",
    "This assignment requires you to load the spacex dataset.\n",
    "\n",
    "In many cases the dataset to be analyzed is available as a .CSV (comma separated values) file, perhaps on the internet. Click on the link below to download and save the dataset (.CSV file):\n",
    "\n",
    " <a href=\"https://cf-courses-data.s3.us.cloud-object-storage.appdomain.cloud/IBM-DS0321EN-SkillsNetwork/labs/module_2/data/Spacex.csv\" target=\"_blank\">Spacex DataSet</a>\n",
    "\n"
   ]
  },
  {
   "cell_type": "code",
   "execution_count": 1,
   "metadata": {},
   "outputs": [
    {
     "name": "stdout",
     "output_type": "stream",
     "text": [
      "Collecting sqlalchemy==1.3.9\n",
      "  Downloading SQLAlchemy-1.3.9.tar.gz (6.0 MB)\n",
      "     ---------------------------------------- 0.0/6.0 MB ? eta -:--:--\n",
      "     - -------------------------------------- 0.3/6.0 MB ? eta -:--:--\n",
      "     - -------------------------------------- 0.3/6.0 MB ? eta -:--:--\n",
      "     --- ------------------------------------ 0.5/6.0 MB 578.7 kB/s eta 0:00:10\n",
      "     --- ------------------------------------ 0.5/6.0 MB 578.7 kB/s eta 0:00:10\n",
      "     --- ------------------------------------ 0.5/6.0 MB 578.7 kB/s eta 0:00:10\n",
      "     --- ------------------------------------ 0.5/6.0 MB 578.7 kB/s eta 0:00:10\n",
      "     --- ------------------------------------ 0.5/6.0 MB 578.7 kB/s eta 0:00:10\n",
      "     --- ------------------------------------ 0.5/6.0 MB 578.7 kB/s eta 0:00:10\n",
      "     --- ------------------------------------ 0.5/6.0 MB 578.7 kB/s eta 0:00:10\n",
      "     ----- ---------------------------------- 0.8/6.0 MB 294.4 kB/s eta 0:00:18\n",
      "     ----- ---------------------------------- 0.8/6.0 MB 294.4 kB/s eta 0:00:18\n",
      "     ----- ---------------------------------- 0.8/6.0 MB 294.4 kB/s eta 0:00:18\n",
      "     ----- ---------------------------------- 0.8/6.0 MB 294.4 kB/s eta 0:00:18\n",
      "     ----- ---------------------------------- 0.8/6.0 MB 294.4 kB/s eta 0:00:18\n",
      "     ------- -------------------------------- 1.0/6.0 MB 264.9 kB/s eta 0:00:19\n",
      "     ------- -------------------------------- 1.0/6.0 MB 264.9 kB/s eta 0:00:19\n",
      "     ------- -------------------------------- 1.0/6.0 MB 264.9 kB/s eta 0:00:19\n",
      "     ------- -------------------------------- 1.0/6.0 MB 264.9 kB/s eta 0:00:19\n",
      "     ------- -------------------------------- 1.0/6.0 MB 264.9 kB/s eta 0:00:19\n",
      "     ------- -------------------------------- 1.0/6.0 MB 264.9 kB/s eta 0:00:19\n",
      "     ------- -------------------------------- 1.0/6.0 MB 264.9 kB/s eta 0:00:19\n",
      "     ------- -------------------------------- 1.0/6.0 MB 264.9 kB/s eta 0:00:19\n",
      "     ------- -------------------------------- 1.0/6.0 MB 264.9 kB/s eta 0:00:19\n",
      "     -------- ------------------------------- 1.3/6.0 MB 219.3 kB/s eta 0:00:22\n",
      "     -------- ------------------------------- 1.3/6.0 MB 219.3 kB/s eta 0:00:22\n",
      "     -------- ------------------------------- 1.3/6.0 MB 219.3 kB/s eta 0:00:22\n",
      "     -------- ------------------------------- 1.3/6.0 MB 219.3 kB/s eta 0:00:22\n",
      "     -------- ------------------------------- 1.3/6.0 MB 219.3 kB/s eta 0:00:22\n",
      "     ---------- ----------------------------- 1.6/6.0 MB 223.7 kB/s eta 0:00:20\n",
      "     ---------- ----------------------------- 1.6/6.0 MB 223.7 kB/s eta 0:00:20\n",
      "     ---------- ----------------------------- 1.6/6.0 MB 223.7 kB/s eta 0:00:20\n",
      "     ---------- ----------------------------- 1.6/6.0 MB 223.7 kB/s eta 0:00:20\n",
      "     ---------- ----------------------------- 1.6/6.0 MB 223.7 kB/s eta 0:00:20\n",
      "     ---------- ----------------------------- 1.6/6.0 MB 223.7 kB/s eta 0:00:20\n",
      "     ------------ --------------------------- 1.8/6.0 MB 218.8 kB/s eta 0:00:19\n",
      "     ------------ --------------------------- 1.8/6.0 MB 218.8 kB/s eta 0:00:19\n",
      "     ------------ --------------------------- 1.8/6.0 MB 218.8 kB/s eta 0:00:19\n",
      "     ------------ --------------------------- 1.8/6.0 MB 218.8 kB/s eta 0:00:19\n",
      "     ------------ --------------------------- 1.8/6.0 MB 218.8 kB/s eta 0:00:19\n",
      "     ------------ --------------------------- 1.8/6.0 MB 218.8 kB/s eta 0:00:19\n",
      "     ------------ --------------------------- 1.8/6.0 MB 218.8 kB/s eta 0:00:19\n",
      "     -------------- ------------------------- 2.1/6.0 MB 210.1 kB/s eta 0:00:19\n",
      "     -------------- ------------------------- 2.1/6.0 MB 210.1 kB/s eta 0:00:19\n",
      "     -------------- ------------------------- 2.1/6.0 MB 210.1 kB/s eta 0:00:19\n",
      "     -------------- ------------------------- 2.1/6.0 MB 210.1 kB/s eta 0:00:19\n",
      "     -------------- ------------------------- 2.1/6.0 MB 210.1 kB/s eta 0:00:19\n",
      "     -------------- ------------------------- 2.1/6.0 MB 210.1 kB/s eta 0:00:19\n",
      "     --------------- ------------------------ 2.4/6.0 MB 209.4 kB/s eta 0:00:18\n",
      "     --------------- ------------------------ 2.4/6.0 MB 209.4 kB/s eta 0:00:18\n",
      "     --------------- ------------------------ 2.4/6.0 MB 209.4 kB/s eta 0:00:18\n",
      "     --------------- ------------------------ 2.4/6.0 MB 209.4 kB/s eta 0:00:18\n",
      "     ----------------- ---------------------- 2.6/6.0 MB 216.6 kB/s eta 0:00:16\n",
      "     ----------------- ---------------------- 2.6/6.0 MB 216.6 kB/s eta 0:00:16\n",
      "     ----------------- ---------------------- 2.6/6.0 MB 216.6 kB/s eta 0:00:16\n",
      "     ----------------- ---------------------- 2.6/6.0 MB 216.6 kB/s eta 0:00:16\n",
      "     ----------------- ---------------------- 2.6/6.0 MB 216.6 kB/s eta 0:00:16\n",
      "     ----------------- ---------------------- 2.6/6.0 MB 216.6 kB/s eta 0:00:16\n",
      "     ----------------- ---------------------- 2.6/6.0 MB 216.6 kB/s eta 0:00:16\n",
      "     ----------------- ---------------------- 2.6/6.0 MB 216.6 kB/s eta 0:00:16\n",
      "     ----------------- ---------------------- 2.6/6.0 MB 216.6 kB/s eta 0:00:16\n",
      "     ------------------- -------------------- 2.9/6.0 MB 206.4 kB/s eta 0:00:15\n",
      "     ------------------- -------------------- 2.9/6.0 MB 206.4 kB/s eta 0:00:15\n",
      "     ------------------- -------------------- 2.9/6.0 MB 206.4 kB/s eta 0:00:15\n",
      "     ------------------- -------------------- 2.9/6.0 MB 206.4 kB/s eta 0:00:15\n",
      "     ------------------- -------------------- 2.9/6.0 MB 206.4 kB/s eta 0:00:15\n",
      "     ------------------- -------------------- 2.9/6.0 MB 206.4 kB/s eta 0:00:15\n",
      "     --------------------- ------------------ 3.1/6.0 MB 205.5 kB/s eta 0:00:14\n",
      "     --------------------- ------------------ 3.1/6.0 MB 205.5 kB/s eta 0:00:14\n",
      "     --------------------- ------------------ 3.1/6.0 MB 205.5 kB/s eta 0:00:14\n",
      "     --------------------- ------------------ 3.1/6.0 MB 205.5 kB/s eta 0:00:14\n",
      "     --------------------- ------------------ 3.1/6.0 MB 205.5 kB/s eta 0:00:14\n",
      "     ---------------------- ----------------- 3.4/6.0 MB 208.6 kB/s eta 0:00:13\n",
      "     ---------------------- ----------------- 3.4/6.0 MB 208.6 kB/s eta 0:00:13\n",
      "     ---------------------- ----------------- 3.4/6.0 MB 208.6 kB/s eta 0:00:13\n",
      "     ---------------------- ----------------- 3.4/6.0 MB 208.6 kB/s eta 0:00:13\n",
      "     ---------------------- ----------------- 3.4/6.0 MB 208.6 kB/s eta 0:00:13\n",
      "     ---------------------- ----------------- 3.4/6.0 MB 208.6 kB/s eta 0:00:13\n",
      "     ------------------------ --------------- 3.7/6.0 MB 206.0 kB/s eta 0:00:12\n",
      "     ------------------------ --------------- 3.7/6.0 MB 206.0 kB/s eta 0:00:12\n",
      "     ------------------------ --------------- 3.7/6.0 MB 206.0 kB/s eta 0:00:12\n",
      "     ------------------------ --------------- 3.7/6.0 MB 206.0 kB/s eta 0:00:12\n",
      "     -------------------------- ------------- 3.9/6.0 MB 211.0 kB/s eta 0:00:10\n",
      "     -------------------------- ------------- 3.9/6.0 MB 211.0 kB/s eta 0:00:10\n",
      "     -------------------------- ------------- 3.9/6.0 MB 211.0 kB/s eta 0:00:10\n",
      "     -------------------------- ------------- 3.9/6.0 MB 211.0 kB/s eta 0:00:10\n",
      "     -------------------------- ------------- 3.9/6.0 MB 211.0 kB/s eta 0:00:10\n",
      "     ---------------------------- ----------- 4.2/6.0 MB 213.4 kB/s eta 0:00:09\n",
      "     ---------------------------- ----------- 4.2/6.0 MB 213.4 kB/s eta 0:00:09\n",
      "     ---------------------------- ----------- 4.2/6.0 MB 213.4 kB/s eta 0:00:09\n",
      "     ---------------------------- ----------- 4.2/6.0 MB 213.4 kB/s eta 0:00:09\n",
      "     ---------------------------- ----------- 4.2/6.0 MB 213.4 kB/s eta 0:00:09\n",
      "     ---------------------------- ----------- 4.2/6.0 MB 213.4 kB/s eta 0:00:09\n",
      "     ---------------------------- ----------- 4.2/6.0 MB 213.4 kB/s eta 0:00:09\n",
      "     ----------------------------- ---------- 4.5/6.0 MB 209.7 kB/s eta 0:00:08\n",
      "     ----------------------------- ---------- 4.5/6.0 MB 209.7 kB/s eta 0:00:08\n",
      "     ----------------------------- ---------- 4.5/6.0 MB 209.7 kB/s eta 0:00:08\n",
      "     ----------------------------- ---------- 4.5/6.0 MB 209.7 kB/s eta 0:00:08\n",
      "     ----------------------------- ---------- 4.5/6.0 MB 209.7 kB/s eta 0:00:08\n",
      "     ----------------------------- ---------- 4.5/6.0 MB 209.7 kB/s eta 0:00:08\n",
      "     ----------------------------- ---------- 4.5/6.0 MB 209.7 kB/s eta 0:00:08\n",
      "     ------------------------------- -------- 4.7/6.0 MB 208.5 kB/s eta 0:00:06\n",
      "     ------------------------------- -------- 4.7/6.0 MB 208.5 kB/s eta 0:00:06\n",
      "     ------------------------------- -------- 4.7/6.0 MB 208.5 kB/s eta 0:00:06\n",
      "     ------------------------------- -------- 4.7/6.0 MB 208.5 kB/s eta 0:00:06\n",
      "     --------------------------------- ------ 5.0/6.0 MB 211.2 kB/s eta 0:00:05\n",
      "     --------------------------------- ------ 5.0/6.0 MB 211.2 kB/s eta 0:00:05\n",
      "     --------------------------------- ------ 5.0/6.0 MB 211.2 kB/s eta 0:00:05\n",
      "     --------------------------------- ------ 5.0/6.0 MB 211.2 kB/s eta 0:00:05\n",
      "     --------------------------------- ------ 5.0/6.0 MB 211.2 kB/s eta 0:00:05\n",
      "     --------------------------------- ------ 5.0/6.0 MB 211.2 kB/s eta 0:00:05\n",
      "     --------------------------------- ------ 5.0/6.0 MB 211.2 kB/s eta 0:00:05\n",
      "     ----------------------------------- ---- 5.2/6.0 MB 209.4 kB/s eta 0:00:04\n",
      "     ----------------------------------- ---- 5.2/6.0 MB 209.4 kB/s eta 0:00:04\n",
      "     ----------------------------------- ---- 5.2/6.0 MB 209.4 kB/s eta 0:00:04\n",
      "     ----------------------------------- ---- 5.2/6.0 MB 209.4 kB/s eta 0:00:04\n",
      "     ----------------------------------- ---- 5.2/6.0 MB 209.4 kB/s eta 0:00:04\n",
      "     ----------------------------------- ---- 5.2/6.0 MB 209.4 kB/s eta 0:00:04\n",
      "     ----------------------------------- ---- 5.2/6.0 MB 209.4 kB/s eta 0:00:04\n",
      "     ------------------------------------ --- 5.5/6.0 MB 208.2 kB/s eta 0:00:03\n",
      "     ------------------------------------ --- 5.5/6.0 MB 208.2 kB/s eta 0:00:03\n",
      "     ------------------------------------ --- 5.5/6.0 MB 208.2 kB/s eta 0:00:03\n",
      "     ------------------------------------ --- 5.5/6.0 MB 208.2 kB/s eta 0:00:03\n",
      "     ------------------------------------ --- 5.5/6.0 MB 208.2 kB/s eta 0:00:03\n",
      "     ------------------------------------ --- 5.5/6.0 MB 208.2 kB/s eta 0:00:03\n",
      "     -------------------------------------- - 5.8/6.0 MB 207.5 kB/s eta 0:00:01\n",
      "     -------------------------------------- - 5.8/6.0 MB 207.5 kB/s eta 0:00:01\n",
      "     -------------------------------------- - 5.8/6.0 MB 207.5 kB/s eta 0:00:01\n",
      "     -------------------------------------- - 5.8/6.0 MB 207.5 kB/s eta 0:00:01\n",
      "     ---------------------------------------- 6.0/6.0 MB 207.8 kB/s eta 0:00:00\n",
      "  Preparing metadata (setup.py): started\n",
      "  Preparing metadata (setup.py): finished with status 'done'\n",
      "Building wheels for collected packages: sqlalchemy\n",
      "  Building wheel for sqlalchemy (setup.py): started\n",
      "  Building wheel for sqlalchemy (setup.py): finished with status 'done'\n",
      "  Created wheel for sqlalchemy: filename=sqlalchemy-1.3.9-cp312-cp312-win_amd64.whl size=1143037 sha256=3957b8fc6e74d22b2644c2ac21018d1f64bab066b6f506492b28ecc107e625bf\n",
      "  Stored in directory: c:\\users\\nam\\appdata\\local\\pip\\cache\\wheels\\b3\\1c\\42\\0e26b8d512adc6bce10ff71a05229366b4ccec641cd3b42111\n",
      "Successfully built sqlalchemy\n",
      "Installing collected packages: sqlalchemy\n",
      "Successfully installed sqlalchemy-1.3.9\n"
     ]
    },
    {
     "name": "stderr",
     "output_type": "stream",
     "text": [
      "\n",
      "[notice] A new release of pip is available: 25.0.1 -> 25.1.1\n",
      "[notice] To update, run: python.exe -m pip install --upgrade pip\n"
     ]
    }
   ],
   "source": [
    "!pip install sqlalchemy==1.3.9\n"
   ]
  },
  {
   "cell_type": "markdown",
   "metadata": {},
   "source": [
    "### Connect to the database\n",
    "\n",
    "Let us first load the SQL extension and establish a connection with the database\n"
   ]
  },
  {
   "cell_type": "code",
   "execution_count": 2,
   "metadata": {},
   "outputs": [
    {
     "name": "stdout",
     "output_type": "stream",
     "text": [
      "Collecting ipython-sql\n",
      "  Downloading ipython_sql-0.5.0-py3-none-any.whl.metadata (17 kB)\n",
      "Collecting prettytable (from ipython-sql)\n",
      "  Downloading prettytable-3.16.0-py3-none-any.whl.metadata (33 kB)\n",
      "Requirement already satisfied: ipython in c:\\users\\nam\\appdata\\local\\programs\\python\\python312\\lib\\site-packages (from ipython-sql) (8.21.0)\n",
      "Collecting sqlalchemy>=2.0 (from ipython-sql)\n",
      "  Downloading sqlalchemy-2.0.41-cp312-cp312-win_amd64.whl.metadata (9.8 kB)\n",
      "Collecting sqlparse (from ipython-sql)\n",
      "  Downloading sqlparse-0.5.3-py3-none-any.whl.metadata (3.9 kB)\n",
      "Requirement already satisfied: six in c:\\users\\nam\\appdata\\local\\programs\\python\\python312\\lib\\site-packages (from ipython-sql) (1.16.0)\n",
      "Requirement already satisfied: ipython-genutils in c:\\users\\nam\\appdata\\local\\programs\\python\\python312\\lib\\site-packages (from ipython-sql) (0.2.0)\n",
      "Collecting greenlet>=1 (from sqlalchemy>=2.0->ipython-sql)\n",
      "  Downloading greenlet-3.2.3-cp312-cp312-win_amd64.whl.metadata (4.2 kB)\n",
      "Requirement already satisfied: typing-extensions>=4.6.0 in c:\\users\\nam\\appdata\\local\\programs\\python\\python312\\lib\\site-packages (from sqlalchemy>=2.0->ipython-sql) (4.12.2)\n",
      "Requirement already satisfied: decorator in c:\\users\\nam\\appdata\\local\\programs\\python\\python312\\lib\\site-packages (from ipython->ipython-sql) (5.1.1)\n",
      "Requirement already satisfied: jedi>=0.16 in c:\\users\\nam\\appdata\\local\\programs\\python\\python312\\lib\\site-packages (from ipython->ipython-sql) (0.19.1)\n",
      "Requirement already satisfied: matplotlib-inline in c:\\users\\nam\\appdata\\local\\programs\\python\\python312\\lib\\site-packages (from ipython->ipython-sql) (0.1.6)\n",
      "Requirement already satisfied: prompt-toolkit<3.1.0,>=3.0.41 in c:\\users\\nam\\appdata\\local\\programs\\python\\python312\\lib\\site-packages (from ipython->ipython-sql) (3.0.43)\n",
      "Requirement already satisfied: pygments>=2.4.0 in c:\\users\\nam\\appdata\\local\\programs\\python\\python312\\lib\\site-packages (from ipython->ipython-sql) (2.17.2)\n",
      "Requirement already satisfied: stack-data in c:\\users\\nam\\appdata\\local\\programs\\python\\python312\\lib\\site-packages (from ipython->ipython-sql) (0.6.3)\n",
      "Requirement already satisfied: traitlets>=5 in c:\\users\\nam\\appdata\\local\\programs\\python\\python312\\lib\\site-packages (from ipython->ipython-sql) (5.14.1)\n",
      "Requirement already satisfied: colorama in c:\\users\\nam\\appdata\\local\\programs\\python\\python312\\lib\\site-packages (from ipython->ipython-sql) (0.4.6)\n",
      "Requirement already satisfied: wcwidth in c:\\users\\nam\\appdata\\local\\programs\\python\\python312\\lib\\site-packages (from prettytable->ipython-sql) (0.2.13)\n",
      "Requirement already satisfied: parso<0.9.0,>=0.8.3 in c:\\users\\nam\\appdata\\local\\programs\\python\\python312\\lib\\site-packages (from jedi>=0.16->ipython->ipython-sql) (0.8.3)\n",
      "Requirement already satisfied: executing>=1.2.0 in c:\\users\\nam\\appdata\\local\\programs\\python\\python312\\lib\\site-packages (from stack-data->ipython->ipython-sql) (2.0.1)\n",
      "Requirement already satisfied: asttokens>=2.1.0 in c:\\users\\nam\\appdata\\local\\programs\\python\\python312\\lib\\site-packages (from stack-data->ipython->ipython-sql) (2.4.1)\n",
      "Requirement already satisfied: pure-eval in c:\\users\\nam\\appdata\\local\\programs\\python\\python312\\lib\\site-packages (from stack-data->ipython->ipython-sql) (0.2.2)\n",
      "Downloading ipython_sql-0.5.0-py3-none-any.whl (20 kB)\n",
      "Downloading sqlalchemy-2.0.41-cp312-cp312-win_amd64.whl (2.1 MB)\n",
      "   ---------------------------------------- 0.0/2.1 MB ? eta -:--:--\n",
      "   ---------------------------------------- 0.0/2.1 MB ? eta -:--:--\n",
      "   ---------------------------------------- 0.0/2.1 MB ? eta -:--:--\n",
      "   ---------------------------------------- 0.0/2.1 MB ? eta -:--:--\n",
      "   ---- ----------------------------------- 0.3/2.1 MB ? eta -:--:--\n",
      "   ---- ----------------------------------- 0.3/2.1 MB ? eta -:--:--\n",
      "   ---- ----------------------------------- 0.3/2.1 MB ? eta -:--:--\n",
      "   ---- ----------------------------------- 0.3/2.1 MB ? eta -:--:--\n",
      "   ---- ----------------------------------- 0.3/2.1 MB ? eta -:--:--\n",
      "   ---- ----------------------------------- 0.3/2.1 MB ? eta -:--:--\n",
      "   ---- ----------------------------------- 0.3/2.1 MB ? eta -:--:--\n",
      "   --------- ------------------------------ 0.5/2.1 MB 182.4 kB/s eta 0:00:09\n",
      "   --------- ------------------------------ 0.5/2.1 MB 182.4 kB/s eta 0:00:09\n",
      "   --------- ------------------------------ 0.5/2.1 MB 182.4 kB/s eta 0:00:09\n",
      "   --------- ------------------------------ 0.5/2.1 MB 182.4 kB/s eta 0:00:09\n",
      "   --------- ------------------------------ 0.5/2.1 MB 182.4 kB/s eta 0:00:09\n",
      "   -------------- ------------------------- 0.8/2.1 MB 202.1 kB/s eta 0:00:07\n",
      "   -------------- ------------------------- 0.8/2.1 MB 202.1 kB/s eta 0:00:07\n",
      "   -------------- ------------------------- 0.8/2.1 MB 202.1 kB/s eta 0:00:07\n",
      "   -------------- ------------------------- 0.8/2.1 MB 202.1 kB/s eta 0:00:07\n",
      "   -------------- ------------------------- 0.8/2.1 MB 202.1 kB/s eta 0:00:07\n",
      "   ------------------- -------------------- 1.0/2.1 MB 220.8 kB/s eta 0:00:05\n",
      "   ------------------- -------------------- 1.0/2.1 MB 220.8 kB/s eta 0:00:05\n",
      "   ------------------- -------------------- 1.0/2.1 MB 220.8 kB/s eta 0:00:05\n",
      "   ------------------- -------------------- 1.0/2.1 MB 220.8 kB/s eta 0:00:05\n",
      "   ------------------------ --------------- 1.3/2.1 MB 233.8 kB/s eta 0:00:04\n",
      "   ------------------------ --------------- 1.3/2.1 MB 233.8 kB/s eta 0:00:04\n",
      "   ------------------------ --------------- 1.3/2.1 MB 233.8 kB/s eta 0:00:04\n",
      "   ------------------------ --------------- 1.3/2.1 MB 233.8 kB/s eta 0:00:04\n",
      "   ------------------------ --------------- 1.3/2.1 MB 233.8 kB/s eta 0:00:04\n",
      "   ------------------------ --------------- 1.3/2.1 MB 233.8 kB/s eta 0:00:04\n",
      "   ------------------------ --------------- 1.3/2.1 MB 233.8 kB/s eta 0:00:04\n",
      "   ------------------------ --------------- 1.3/2.1 MB 233.8 kB/s eta 0:00:04\n",
      "   ------------------------ --------------- 1.3/2.1 MB 233.8 kB/s eta 0:00:04\n",
      "   ----------------------------- ---------- 1.6/2.1 MB 200.7 kB/s eta 0:00:03\n",
      "   ----------------------------- ---------- 1.6/2.1 MB 200.7 kB/s eta 0:00:03\n",
      "   ----------------------------- ---------- 1.6/2.1 MB 200.7 kB/s eta 0:00:03\n",
      "   ----------------------------- ---------- 1.6/2.1 MB 200.7 kB/s eta 0:00:03\n",
      "   ----------------------------- ---------- 1.6/2.1 MB 200.7 kB/s eta 0:00:03\n",
      "   ----------------------------- ---------- 1.6/2.1 MB 200.7 kB/s eta 0:00:03\n",
      "   ----------------------------- ---------- 1.6/2.1 MB 200.7 kB/s eta 0:00:03\n",
      "   ---------------------------------- ----- 1.8/2.1 MB 195.1 kB/s eta 0:00:02\n",
      "   ---------------------------------- ----- 1.8/2.1 MB 195.1 kB/s eta 0:00:02\n",
      "   ---------------------------------- ----- 1.8/2.1 MB 195.1 kB/s eta 0:00:02\n",
      "   ---------------------------------- ----- 1.8/2.1 MB 195.1 kB/s eta 0:00:02\n",
      "   ---------------------------------- ----- 1.8/2.1 MB 195.1 kB/s eta 0:00:02\n",
      "   ---------------------------------- ----- 1.8/2.1 MB 195.1 kB/s eta 0:00:02\n",
      "   ---------------------------------- ----- 1.8/2.1 MB 195.1 kB/s eta 0:00:02\n",
      "   ---------------------------------- ----- 1.8/2.1 MB 195.1 kB/s eta 0:00:02\n",
      "   ---------------------------------- ----- 1.8/2.1 MB 195.1 kB/s eta 0:00:02\n",
      "   ---------------------------------------- 2.1/2.1 MB 187.0 kB/s eta 0:00:00\n",
      "Downloading prettytable-3.16.0-py3-none-any.whl (33 kB)\n",
      "Downloading sqlparse-0.5.3-py3-none-any.whl (44 kB)\n",
      "Downloading greenlet-3.2.3-cp312-cp312-win_amd64.whl (297 kB)\n",
      "Installing collected packages: sqlparse, prettytable, greenlet, sqlalchemy, ipython-sql\n",
      "  Attempting uninstall: sqlalchemy\n",
      "    Found existing installation: SQLAlchemy 1.3.9\n",
      "    Uninstalling SQLAlchemy-1.3.9:\n",
      "      Successfully uninstalled SQLAlchemy-1.3.9\n",
      "Successfully installed greenlet-3.2.3 ipython-sql-0.5.0 prettytable-3.16.0 sqlalchemy-2.0.41 sqlparse-0.5.3\n"
     ]
    },
    {
     "name": "stderr",
     "output_type": "stream",
     "text": [
      "\n",
      "[notice] A new release of pip is available: 25.0.1 -> 25.1.1\n",
      "[notice] To update, run: python.exe -m pip install --upgrade pip\n"
     ]
    },
    {
     "name": "stdout",
     "output_type": "stream",
     "text": [
      "Requirement already satisfied: ipython-sql in c:\\users\\nam\\appdata\\local\\programs\\python\\python312\\lib\\site-packages (0.5.0)\n",
      "Requirement already satisfied: prettytable in c:\\users\\nam\\appdata\\local\\programs\\python\\python312\\lib\\site-packages (3.16.0)\n",
      "Requirement already satisfied: ipython in c:\\users\\nam\\appdata\\local\\programs\\python\\python312\\lib\\site-packages (from ipython-sql) (8.21.0)\n",
      "Requirement already satisfied: sqlalchemy>=2.0 in c:\\users\\nam\\appdata\\local\\programs\\python\\python312\\lib\\site-packages (from ipython-sql) (2.0.41)\n",
      "Requirement already satisfied: sqlparse in c:\\users\\nam\\appdata\\local\\programs\\python\\python312\\lib\\site-packages (from ipython-sql) (0.5.3)\n",
      "Requirement already satisfied: six in c:\\users\\nam\\appdata\\local\\programs\\python\\python312\\lib\\site-packages (from ipython-sql) (1.16.0)\n",
      "Requirement already satisfied: ipython-genutils in c:\\users\\nam\\appdata\\local\\programs\\python\\python312\\lib\\site-packages (from ipython-sql) (0.2.0)\n",
      "Requirement already satisfied: wcwidth in c:\\users\\nam\\appdata\\local\\programs\\python\\python312\\lib\\site-packages (from prettytable) (0.2.13)\n",
      "Requirement already satisfied: greenlet>=1 in c:\\users\\nam\\appdata\\local\\programs\\python\\python312\\lib\\site-packages (from sqlalchemy>=2.0->ipython-sql) (3.2.3)\n",
      "Requirement already satisfied: typing-extensions>=4.6.0 in c:\\users\\nam\\appdata\\local\\programs\\python\\python312\\lib\\site-packages (from sqlalchemy>=2.0->ipython-sql) (4.12.2)\n",
      "Requirement already satisfied: decorator in c:\\users\\nam\\appdata\\local\\programs\\python\\python312\\lib\\site-packages (from ipython->ipython-sql) (5.1.1)\n",
      "Requirement already satisfied: jedi>=0.16 in c:\\users\\nam\\appdata\\local\\programs\\python\\python312\\lib\\site-packages (from ipython->ipython-sql) (0.19.1)\n",
      "Requirement already satisfied: matplotlib-inline in c:\\users\\nam\\appdata\\local\\programs\\python\\python312\\lib\\site-packages (from ipython->ipython-sql) (0.1.6)\n",
      "Requirement already satisfied: prompt-toolkit<3.1.0,>=3.0.41 in c:\\users\\nam\\appdata\\local\\programs\\python\\python312\\lib\\site-packages (from ipython->ipython-sql) (3.0.43)\n",
      "Requirement already satisfied: pygments>=2.4.0 in c:\\users\\nam\\appdata\\local\\programs\\python\\python312\\lib\\site-packages (from ipython->ipython-sql) (2.17.2)\n",
      "Requirement already satisfied: stack-data in c:\\users\\nam\\appdata\\local\\programs\\python\\python312\\lib\\site-packages (from ipython->ipython-sql) (0.6.3)\n",
      "Requirement already satisfied: traitlets>=5 in c:\\users\\nam\\appdata\\local\\programs\\python\\python312\\lib\\site-packages (from ipython->ipython-sql) (5.14.1)\n",
      "Requirement already satisfied: colorama in c:\\users\\nam\\appdata\\local\\programs\\python\\python312\\lib\\site-packages (from ipython->ipython-sql) (0.4.6)\n",
      "Requirement already satisfied: parso<0.9.0,>=0.8.3 in c:\\users\\nam\\appdata\\local\\programs\\python\\python312\\lib\\site-packages (from jedi>=0.16->ipython->ipython-sql) (0.8.3)\n",
      "Requirement already satisfied: executing>=1.2.0 in c:\\users\\nam\\appdata\\local\\programs\\python\\python312\\lib\\site-packages (from stack-data->ipython->ipython-sql) (2.0.1)\n",
      "Requirement already satisfied: asttokens>=2.1.0 in c:\\users\\nam\\appdata\\local\\programs\\python\\python312\\lib\\site-packages (from stack-data->ipython->ipython-sql) (2.4.1)\n",
      "Requirement already satisfied: pure-eval in c:\\users\\nam\\appdata\\local\\programs\\python\\python312\\lib\\site-packages (from stack-data->ipython->ipython-sql) (0.2.2)\n"
     ]
    },
    {
     "name": "stderr",
     "output_type": "stream",
     "text": [
      "\n",
      "[notice] A new release of pip is available: 25.0.1 -> 25.1.1\n",
      "[notice] To update, run: python.exe -m pip install --upgrade pip\n"
     ]
    }
   ],
   "source": [
    "!pip install ipython-sql\n",
    "!pip install ipython-sql prettytable"
   ]
  },
  {
   "cell_type": "code",
   "execution_count": 3,
   "metadata": {},
   "outputs": [],
   "source": [
    "%load_ext sql"
   ]
  },
  {
   "cell_type": "code",
   "execution_count": 4,
   "metadata": {},
   "outputs": [],
   "source": [
    "import csv, sqlite3\n",
    "import prettytable\n",
    "prettytable.DEFAULT = 'DEFAULT'\n",
    "\n",
    "con = sqlite3.connect(\"my_data1.db\")\n",
    "cur = con.cursor()"
   ]
  },
  {
   "cell_type": "code",
   "execution_count": 5,
   "metadata": {},
   "outputs": [],
   "source": [
    "# !pip install -q pandas"
   ]
  },
  {
   "cell_type": "code",
   "execution_count": 6,
   "metadata": {},
   "outputs": [],
   "source": [
    "%sql sqlite:///my_data1.db"
   ]
  },
  {
   "cell_type": "code",
   "execution_count": 7,
   "metadata": {},
   "outputs": [
    {
     "data": {
      "text/plain": [
       "101"
      ]
     },
     "execution_count": 7,
     "metadata": {},
     "output_type": "execute_result"
    }
   ],
   "source": [
    "import pandas as pd\n",
    "df = pd.read_csv(\"https://cf-courses-data.s3.us.cloud-object-storage.appdomain.cloud/IBM-DS0321EN-SkillsNetwork/labs/module_2/data/Spacex.csv\")\n",
    "df.to_sql(\"SPACEXTBL\", con, if_exists='replace', index=False,method=\"multi\")"
   ]
  },
  {
   "cell_type": "markdown",
   "metadata": {},
   "source": [
    "**Note:This below code is added to remove blank rows from table**\n"
   ]
  },
  {
   "cell_type": "code",
   "execution_count": 8,
   "metadata": {},
   "outputs": [
    {
     "name": "stdout",
     "output_type": "stream",
     "text": [
      " * sqlite:///my_data1.db\n",
      "Done.\n"
     ]
    },
    {
     "data": {
      "text/plain": [
       "[]"
      ]
     },
     "execution_count": 8,
     "metadata": {},
     "output_type": "execute_result"
    }
   ],
   "source": [
    "#DROP THE TABLE IF EXISTS\n",
    "\n",
    "%sql DROP TABLE IF EXISTS SPACEXTABLE;"
   ]
  },
  {
   "cell_type": "code",
   "execution_count": 9,
   "metadata": {},
   "outputs": [
    {
     "name": "stdout",
     "output_type": "stream",
     "text": [
      " * sqlite:///my_data1.db\n",
      "Done.\n"
     ]
    },
    {
     "data": {
      "text/plain": [
       "[]"
      ]
     },
     "execution_count": 9,
     "metadata": {},
     "output_type": "execute_result"
    }
   ],
   "source": [
    "%sql create table SPACEXTABLE as select * from SPACEXTBL where Date is not null"
   ]
  },
  {
   "cell_type": "markdown",
   "metadata": {},
   "source": [
    "## Tasks\n",
    "\n",
    "Now write and execute SQL queries to solve the assignment tasks.\n",
    "\n",
    "**Note: If the column names are in mixed case enclose it in double quotes\n",
    "   For Example \"Landing_Outcome\"**\n",
    "\n",
    "### Task 1\n",
    "\n",
    "\n",
    "\n",
    "\n",
    "##### Display the names of the unique launch sites  in the space mission\n"
   ]
  },
  {
   "cell_type": "code",
   "execution_count": 12,
   "metadata": {},
   "outputs": [
    {
     "name": "stdout",
     "output_type": "stream",
     "text": [
      " * sqlite:///my_data1.db\n",
      "Done.\n"
     ]
    },
    {
     "data": {
      "text/html": [
       "<table>\n",
       "    <thead>\n",
       "        <tr>\n",
       "            <th>Launch_Site</th>\n",
       "        </tr>\n",
       "    </thead>\n",
       "    <tbody>\n",
       "        <tr>\n",
       "            <td>CCAFS LC-40</td>\n",
       "        </tr>\n",
       "        <tr>\n",
       "            <td>VAFB SLC-4E</td>\n",
       "        </tr>\n",
       "        <tr>\n",
       "            <td>KSC LC-39A</td>\n",
       "        </tr>\n",
       "        <tr>\n",
       "            <td>CCAFS SLC-40</td>\n",
       "        </tr>\n",
       "    </tbody>\n",
       "</table>"
      ],
      "text/plain": [
       "[('CCAFS LC-40',), ('VAFB SLC-4E',), ('KSC LC-39A',), ('CCAFS SLC-40',)]"
      ]
     },
     "execution_count": 12,
     "metadata": {},
     "output_type": "execute_result"
    }
   ],
   "source": [
    "%%sql\n",
    "-- Task 1: Display the names of the unique launch sites in the space mission\n",
    "SELECT DISTINCT \"Launch_Site\"\n",
    "FROM SPACEXTABLE;\n"
   ]
  },
  {
   "cell_type": "markdown",
   "metadata": {},
   "source": [
    "\n",
    "### Task 2\n",
    "\n",
    "\n",
    "#####  Display 5 records where launch sites begin with the string 'CCA' \n"
   ]
  },
  {
   "cell_type": "code",
   "execution_count": 13,
   "metadata": {},
   "outputs": [
    {
     "name": "stdout",
     "output_type": "stream",
     "text": [
      " * sqlite:///my_data1.db\n",
      "Done.\n"
     ]
    },
    {
     "data": {
      "text/html": [
       "<table>\n",
       "    <thead>\n",
       "        <tr>\n",
       "            <th>Date</th>\n",
       "            <th>Time (UTC)</th>\n",
       "            <th>Booster_Version</th>\n",
       "            <th>Launch_Site</th>\n",
       "            <th>Payload</th>\n",
       "            <th>PAYLOAD_MASS__KG_</th>\n",
       "            <th>Orbit</th>\n",
       "            <th>Customer</th>\n",
       "            <th>Mission_Outcome</th>\n",
       "            <th>Landing_Outcome</th>\n",
       "        </tr>\n",
       "    </thead>\n",
       "    <tbody>\n",
       "        <tr>\n",
       "            <td>2010-06-04</td>\n",
       "            <td>18:45:00</td>\n",
       "            <td>F9 v1.0  B0003</td>\n",
       "            <td>CCAFS LC-40</td>\n",
       "            <td>Dragon Spacecraft Qualification Unit</td>\n",
       "            <td>0</td>\n",
       "            <td>LEO</td>\n",
       "            <td>SpaceX</td>\n",
       "            <td>Success</td>\n",
       "            <td>Failure (parachute)</td>\n",
       "        </tr>\n",
       "        <tr>\n",
       "            <td>2010-12-08</td>\n",
       "            <td>15:43:00</td>\n",
       "            <td>F9 v1.0  B0004</td>\n",
       "            <td>CCAFS LC-40</td>\n",
       "            <td>Dragon demo flight C1, two CubeSats, barrel of Brouere cheese</td>\n",
       "            <td>0</td>\n",
       "            <td>LEO (ISS)</td>\n",
       "            <td>NASA (COTS) NRO</td>\n",
       "            <td>Success</td>\n",
       "            <td>Failure (parachute)</td>\n",
       "        </tr>\n",
       "        <tr>\n",
       "            <td>2012-05-22</td>\n",
       "            <td>7:44:00</td>\n",
       "            <td>F9 v1.0  B0005</td>\n",
       "            <td>CCAFS LC-40</td>\n",
       "            <td>Dragon demo flight C2</td>\n",
       "            <td>525</td>\n",
       "            <td>LEO (ISS)</td>\n",
       "            <td>NASA (COTS)</td>\n",
       "            <td>Success</td>\n",
       "            <td>No attempt</td>\n",
       "        </tr>\n",
       "        <tr>\n",
       "            <td>2012-10-08</td>\n",
       "            <td>0:35:00</td>\n",
       "            <td>F9 v1.0  B0006</td>\n",
       "            <td>CCAFS LC-40</td>\n",
       "            <td>SpaceX CRS-1</td>\n",
       "            <td>500</td>\n",
       "            <td>LEO (ISS)</td>\n",
       "            <td>NASA (CRS)</td>\n",
       "            <td>Success</td>\n",
       "            <td>No attempt</td>\n",
       "        </tr>\n",
       "        <tr>\n",
       "            <td>2013-03-01</td>\n",
       "            <td>15:10:00</td>\n",
       "            <td>F9 v1.0  B0007</td>\n",
       "            <td>CCAFS LC-40</td>\n",
       "            <td>SpaceX CRS-2</td>\n",
       "            <td>677</td>\n",
       "            <td>LEO (ISS)</td>\n",
       "            <td>NASA (CRS)</td>\n",
       "            <td>Success</td>\n",
       "            <td>No attempt</td>\n",
       "        </tr>\n",
       "    </tbody>\n",
       "</table>"
      ],
      "text/plain": [
       "[('2010-06-04', '18:45:00', 'F9 v1.0  B0003', 'CCAFS LC-40', 'Dragon Spacecraft Qualification Unit', 0, 'LEO', 'SpaceX', 'Success', 'Failure (parachute)'),\n",
       " ('2010-12-08', '15:43:00', 'F9 v1.0  B0004', 'CCAFS LC-40', 'Dragon demo flight C1, two CubeSats, barrel of Brouere cheese', 0, 'LEO (ISS)', 'NASA (COTS) NRO', 'Success', 'Failure (parachute)'),\n",
       " ('2012-05-22', '7:44:00', 'F9 v1.0  B0005', 'CCAFS LC-40', 'Dragon demo flight C2', 525, 'LEO (ISS)', 'NASA (COTS)', 'Success', 'No attempt'),\n",
       " ('2012-10-08', '0:35:00', 'F9 v1.0  B0006', 'CCAFS LC-40', 'SpaceX CRS-1', 500, 'LEO (ISS)', 'NASA (CRS)', 'Success', 'No attempt'),\n",
       " ('2013-03-01', '15:10:00', 'F9 v1.0  B0007', 'CCAFS LC-40', 'SpaceX CRS-2', 677, 'LEO (ISS)', 'NASA (CRS)', 'Success', 'No attempt')]"
      ]
     },
     "execution_count": 13,
     "metadata": {},
     "output_type": "execute_result"
    }
   ],
   "source": [
    "%%sql\n",
    "-- Task 2: Display 5 records where launch sites begin with the string 'CCA'\n",
    "SELECT *\n",
    "FROM SPACEXTABLE\n",
    "WHERE \"Launch_Site\" LIKE 'CCA%'\n",
    "LIMIT 5;"
   ]
  },
  {
   "cell_type": "markdown",
   "metadata": {},
   "source": [
    "### Task 3\n",
    "\n",
    "\n",
    "\n",
    "\n",
    "##### Display the total payload mass carried by boosters launched by NASA (CRS)\n"
   ]
  },
  {
   "cell_type": "code",
   "execution_count": 14,
   "metadata": {},
   "outputs": [
    {
     "name": "stdout",
     "output_type": "stream",
     "text": [
      " * sqlite:///my_data1.db\n",
      "Done.\n"
     ]
    },
    {
     "data": {
      "text/html": [
       "<table>\n",
       "    <thead>\n",
       "        <tr>\n",
       "            <th>total_payload_kg</th>\n",
       "        </tr>\n",
       "    </thead>\n",
       "    <tbody>\n",
       "        <tr>\n",
       "            <td>45596</td>\n",
       "        </tr>\n",
       "    </tbody>\n",
       "</table>"
      ],
      "text/plain": [
       "[(45596,)]"
      ]
     },
     "execution_count": 14,
     "metadata": {},
     "output_type": "execute_result"
    }
   ],
   "source": [
    "%%sql\n",
    "-- Task 3: Display the total payload mass carried by boosters launched by NASA (CRS)\n",
    "SELECT SUM(\"Payload_Mass__kg_\") AS total_payload_kg\n",
    "FROM SPACEXTABLE\n",
    "WHERE \"Customer\" = 'NASA (CRS)';"
   ]
  },
  {
   "cell_type": "markdown",
   "metadata": {},
   "source": [
    "### Task 4\n",
    "\n",
    "\n",
    "\n",
    "\n",
    "##### Display average payload mass carried by booster version F9 v1.1\n"
   ]
  },
  {
   "cell_type": "code",
   "execution_count": 15,
   "metadata": {},
   "outputs": [
    {
     "name": "stdout",
     "output_type": "stream",
     "text": [
      " * sqlite:///my_data1.db\n",
      "Done.\n"
     ]
    },
    {
     "data": {
      "text/html": [
       "<table>\n",
       "    <thead>\n",
       "        <tr>\n",
       "            <th>avg_payload_kg</th>\n",
       "        </tr>\n",
       "    </thead>\n",
       "    <tbody>\n",
       "        <tr>\n",
       "            <td>2928.4</td>\n",
       "        </tr>\n",
       "    </tbody>\n",
       "</table>"
      ],
      "text/plain": [
       "[(2928.4,)]"
      ]
     },
     "execution_count": 15,
     "metadata": {},
     "output_type": "execute_result"
    }
   ],
   "source": [
    "%%sql\n",
    "-- Task 4: Display average payload mass carried by booster version F9 v1.1\n",
    "SELECT AVG(\"Payload_Mass__kg_\") AS avg_payload_kg\n",
    "FROM SPACEXTABLE\n",
    "WHERE \"Booster_Version\" = 'F9 v1.1';\n"
   ]
  },
  {
   "cell_type": "markdown",
   "metadata": {},
   "source": [
    "### Task 5\n",
    "\n",
    "##### List the date when the first succesful landing outcome in ground pad was acheived.\n",
    "\n",
    "\n",
    "_Hint:Use min function_ \n"
   ]
  },
  {
   "cell_type": "code",
   "execution_count": 16,
   "metadata": {},
   "outputs": [
    {
     "name": "stdout",
     "output_type": "stream",
     "text": [
      " * sqlite:///my_data1.db\n",
      "Done.\n"
     ]
    },
    {
     "data": {
      "text/html": [
       "<table>\n",
       "    <thead>\n",
       "        <tr>\n",
       "            <th>first_success_ground_pad</th>\n",
       "        </tr>\n",
       "    </thead>\n",
       "    <tbody>\n",
       "        <tr>\n",
       "            <td>2015-12-22</td>\n",
       "        </tr>\n",
       "    </tbody>\n",
       "</table>"
      ],
      "text/plain": [
       "[('2015-12-22',)]"
      ]
     },
     "execution_count": 16,
     "metadata": {},
     "output_type": "execute_result"
    }
   ],
   "source": [
    "%%sql\n",
    "-- Task 5: List the date when the first successful landing outcome in ground pad was achieved\n",
    "SELECT MIN(\"Date\") AS first_success_ground_pad\n",
    "FROM SPACEXTABLE\n",
    "WHERE \"Landing_Outcome\" = 'Success (ground pad)';\n"
   ]
  },
  {
   "cell_type": "markdown",
   "metadata": {},
   "source": [
    "### Task 6\n",
    "\n",
    "##### List the names of the boosters which have success in drone ship and have payload mass greater than 4000 but less than 6000\n"
   ]
  },
  {
   "cell_type": "code",
   "execution_count": 17,
   "metadata": {},
   "outputs": [
    {
     "name": "stdout",
     "output_type": "stream",
     "text": [
      " * sqlite:///my_data1.db\n",
      "Done.\n"
     ]
    },
    {
     "data": {
      "text/html": [
       "<table>\n",
       "    <thead>\n",
       "        <tr>\n",
       "            <th>Booster_Version</th>\n",
       "        </tr>\n",
       "    </thead>\n",
       "    <tbody>\n",
       "        <tr>\n",
       "            <td>F9 FT B1022</td>\n",
       "        </tr>\n",
       "        <tr>\n",
       "            <td>F9 FT B1026</td>\n",
       "        </tr>\n",
       "        <tr>\n",
       "            <td>F9 FT  B1021.2</td>\n",
       "        </tr>\n",
       "        <tr>\n",
       "            <td>F9 FT  B1031.2</td>\n",
       "        </tr>\n",
       "    </tbody>\n",
       "</table>"
      ],
      "text/plain": [
       "[('F9 FT B1022',), ('F9 FT B1026',), ('F9 FT  B1021.2',), ('F9 FT  B1031.2',)]"
      ]
     },
     "execution_count": 17,
     "metadata": {},
     "output_type": "execute_result"
    }
   ],
   "source": [
    "%%sql\n",
    "-- Task 6: List the names of the boosters which have success in drone ship \n",
    "--         and have payload mass >4000 but <6000\n",
    "SELECT DISTINCT \"Booster_Version\"\n",
    "FROM SPACEXTABLE\n",
    "WHERE \"Landing_Outcome\" = 'Success (drone ship)'\n",
    "  AND \"Payload_Mass__kg_\"  > 4000\n",
    "  AND \"Payload_Mass__kg_\"  < 6000;\n"
   ]
  },
  {
   "cell_type": "markdown",
   "metadata": {},
   "source": [
    "### Task 7\n",
    "\n",
    "\n",
    "\n",
    "\n",
    "##### List the total number of successful and failure mission outcomes\n"
   ]
  },
  {
   "cell_type": "code",
   "execution_count": 18,
   "metadata": {},
   "outputs": [
    {
     "name": "stdout",
     "output_type": "stream",
     "text": [
      " * sqlite:///my_data1.db\n",
      "Done.\n"
     ]
    },
    {
     "data": {
      "text/html": [
       "<table>\n",
       "    <thead>\n",
       "        <tr>\n",
       "            <th>Mission_Outcome</th>\n",
       "            <th>outcome_count</th>\n",
       "        </tr>\n",
       "    </thead>\n",
       "    <tbody>\n",
       "        <tr>\n",
       "            <td>Failure (in flight)</td>\n",
       "            <td>1</td>\n",
       "        </tr>\n",
       "        <tr>\n",
       "            <td>Success</td>\n",
       "            <td>98</td>\n",
       "        </tr>\n",
       "        <tr>\n",
       "            <td>Success </td>\n",
       "            <td>1</td>\n",
       "        </tr>\n",
       "        <tr>\n",
       "            <td>Success (payload status unclear)</td>\n",
       "            <td>1</td>\n",
       "        </tr>\n",
       "    </tbody>\n",
       "</table>"
      ],
      "text/plain": [
       "[('Failure (in flight)', 1),\n",
       " ('Success', 98),\n",
       " ('Success ', 1),\n",
       " ('Success (payload status unclear)', 1)]"
      ]
     },
     "execution_count": 18,
     "metadata": {},
     "output_type": "execute_result"
    }
   ],
   "source": [
    "%%sql\n",
    "-- Task 7: List the total number of successful and failure mission outcomes\n",
    "SELECT\n",
    "  \"Mission_Outcome\",\n",
    "  COUNT(*) AS outcome_count\n",
    "FROM SPACEXTABLE\n",
    "GROUP BY \"Mission_Outcome\";\n"
   ]
  },
  {
   "cell_type": "markdown",
   "metadata": {},
   "source": [
    "### Task 8\n",
    "\n",
    "\n",
    "\n",
    "##### List all the booster_versions that have carried the maximum payload mass, using a subquery with a suitable aggregate function.\n"
   ]
  },
  {
   "cell_type": "code",
   "execution_count": 19,
   "metadata": {},
   "outputs": [
    {
     "name": "stdout",
     "output_type": "stream",
     "text": [
      " * sqlite:///my_data1.db\n",
      "Done.\n"
     ]
    },
    {
     "data": {
      "text/html": [
       "<table>\n",
       "    <thead>\n",
       "        <tr>\n",
       "            <th>Booster_Version</th>\n",
       "        </tr>\n",
       "    </thead>\n",
       "    <tbody>\n",
       "        <tr>\n",
       "            <td>F9 B5 B1048.4</td>\n",
       "        </tr>\n",
       "        <tr>\n",
       "            <td>F9 B5 B1049.4</td>\n",
       "        </tr>\n",
       "        <tr>\n",
       "            <td>F9 B5 B1051.3</td>\n",
       "        </tr>\n",
       "        <tr>\n",
       "            <td>F9 B5 B1056.4</td>\n",
       "        </tr>\n",
       "        <tr>\n",
       "            <td>F9 B5 B1048.5</td>\n",
       "        </tr>\n",
       "        <tr>\n",
       "            <td>F9 B5 B1051.4</td>\n",
       "        </tr>\n",
       "        <tr>\n",
       "            <td>F9 B5 B1049.5</td>\n",
       "        </tr>\n",
       "        <tr>\n",
       "            <td>F9 B5 B1060.2 </td>\n",
       "        </tr>\n",
       "        <tr>\n",
       "            <td>F9 B5 B1058.3 </td>\n",
       "        </tr>\n",
       "        <tr>\n",
       "            <td>F9 B5 B1051.6</td>\n",
       "        </tr>\n",
       "        <tr>\n",
       "            <td>F9 B5 B1060.3</td>\n",
       "        </tr>\n",
       "        <tr>\n",
       "            <td>F9 B5 B1049.7 </td>\n",
       "        </tr>\n",
       "    </tbody>\n",
       "</table>"
      ],
      "text/plain": [
       "[('F9 B5 B1048.4',),\n",
       " ('F9 B5 B1049.4',),\n",
       " ('F9 B5 B1051.3',),\n",
       " ('F9 B5 B1056.4',),\n",
       " ('F9 B5 B1048.5',),\n",
       " ('F9 B5 B1051.4',),\n",
       " ('F9 B5 B1049.5',),\n",
       " ('F9 B5 B1060.2 ',),\n",
       " ('F9 B5 B1058.3 ',),\n",
       " ('F9 B5 B1051.6',),\n",
       " ('F9 B5 B1060.3',),\n",
       " ('F9 B5 B1049.7 ',)]"
      ]
     },
     "execution_count": 19,
     "metadata": {},
     "output_type": "execute_result"
    }
   ],
   "source": [
    "%%sql\n",
    "-- Task 8: List all booster_versions that have carried the maximum payload mass\n",
    "SELECT DISTINCT\n",
    "  \"Booster_Version\"\n",
    "FROM SPACEXTABLE\n",
    "WHERE \"Payload_Mass__kg_\" = (\n",
    "  SELECT MAX(\"Payload_Mass__kg_\")\n",
    "  FROM SPACEXTABLE\n",
    ");\n"
   ]
  },
  {
   "cell_type": "markdown",
   "metadata": {},
   "source": [
    "### Task 9\n",
    "\n",
    "\n",
    "##### List the records which will display the month names, failure landing_outcomes in drone ship ,booster versions, launch_site for the months in year 2015.\n",
    "\n",
    "**Note: SQLLite does not support monthnames. So you need to use  substr(Date, 6,2) as month to get the months and substr(Date,0,5)='2015' for year.**\n"
   ]
  },
  {
   "cell_type": "code",
   "execution_count": 20,
   "metadata": {},
   "outputs": [
    {
     "name": "stdout",
     "output_type": "stream",
     "text": [
      " * sqlite:///my_data1.db\n",
      "Done.\n"
     ]
    },
    {
     "data": {
      "text/html": [
       "<table>\n",
       "    <thead>\n",
       "        <tr>\n",
       "            <th>month_name</th>\n",
       "            <th>Landing_Outcome</th>\n",
       "            <th>Booster_Version</th>\n",
       "            <th>Launch_Site</th>\n",
       "        </tr>\n",
       "    </thead>\n",
       "    <tbody>\n",
       "        <tr>\n",
       "            <td>January</td>\n",
       "            <td>Failure (drone ship)</td>\n",
       "            <td>F9 v1.1 B1012</td>\n",
       "            <td>CCAFS LC-40</td>\n",
       "        </tr>\n",
       "        <tr>\n",
       "            <td>April</td>\n",
       "            <td>Failure (drone ship)</td>\n",
       "            <td>F9 v1.1 B1015</td>\n",
       "            <td>CCAFS LC-40</td>\n",
       "        </tr>\n",
       "    </tbody>\n",
       "</table>"
      ],
      "text/plain": [
       "[('January', 'Failure (drone ship)', 'F9 v1.1 B1012', 'CCAFS LC-40'),\n",
       " ('April', 'Failure (drone ship)', 'F9 v1.1 B1015', 'CCAFS LC-40')]"
      ]
     },
     "execution_count": 20,
     "metadata": {},
     "output_type": "execute_result"
    }
   ],
   "source": [
    "%%sql\n",
    "-- Task 9: For year 2015, show month name, failure (drone ship) landing outcomes,\n",
    "--         booster version and launch site\n",
    "SELECT\n",
    "  CASE substr(\"Date\",6,2)\n",
    "    WHEN '01' THEN 'January'   WHEN '02' THEN 'February'\n",
    "    WHEN '03' THEN 'March'     WHEN '04' THEN 'April'\n",
    "    WHEN '05' THEN 'May'       WHEN '06' THEN 'June'\n",
    "    WHEN '07' THEN 'July'      WHEN '08' THEN 'August'\n",
    "    WHEN '09' THEN 'September' WHEN '10' THEN 'October'\n",
    "    WHEN '11' THEN 'November'  WHEN '12' THEN 'December'\n",
    "  END AS month_name,\n",
    "  \"Landing_Outcome\",\n",
    "  \"Booster_Version\",\n",
    "  \"Launch_Site\"\n",
    "FROM SPACEXTABLE\n",
    "WHERE \"Landing_Outcome\" = 'Failure (drone ship)'\n",
    "  AND substr(\"Date\",1,4) = '2015';\n"
   ]
  },
  {
   "cell_type": "markdown",
   "metadata": {},
   "source": [
    "### Task 10\n",
    "\n",
    "\n",
    "\n",
    "\n",
    "##### Rank the count of landing outcomes (such as Failure (drone ship) or Success (ground pad)) between the date 2010-06-04 and 2017-03-20, in descending order.\n"
   ]
  },
  {
   "cell_type": "code",
   "execution_count": 21,
   "metadata": {},
   "outputs": [
    {
     "name": "stdout",
     "output_type": "stream",
     "text": [
      " * sqlite:///my_data1.db\n",
      "Done.\n"
     ]
    },
    {
     "data": {
      "text/html": [
       "<table>\n",
       "    <thead>\n",
       "        <tr>\n",
       "            <th>Landing_Outcome</th>\n",
       "            <th>outcome_count</th>\n",
       "        </tr>\n",
       "    </thead>\n",
       "    <tbody>\n",
       "        <tr>\n",
       "            <td>No attempt</td>\n",
       "            <td>10</td>\n",
       "        </tr>\n",
       "        <tr>\n",
       "            <td>Success (drone ship)</td>\n",
       "            <td>5</td>\n",
       "        </tr>\n",
       "        <tr>\n",
       "            <td>Failure (drone ship)</td>\n",
       "            <td>5</td>\n",
       "        </tr>\n",
       "        <tr>\n",
       "            <td>Success (ground pad)</td>\n",
       "            <td>3</td>\n",
       "        </tr>\n",
       "        <tr>\n",
       "            <td>Controlled (ocean)</td>\n",
       "            <td>3</td>\n",
       "        </tr>\n",
       "        <tr>\n",
       "            <td>Uncontrolled (ocean)</td>\n",
       "            <td>2</td>\n",
       "        </tr>\n",
       "        <tr>\n",
       "            <td>Failure (parachute)</td>\n",
       "            <td>2</td>\n",
       "        </tr>\n",
       "        <tr>\n",
       "            <td>Precluded (drone ship)</td>\n",
       "            <td>1</td>\n",
       "        </tr>\n",
       "    </tbody>\n",
       "</table>"
      ],
      "text/plain": [
       "[('No attempt', 10),\n",
       " ('Success (drone ship)', 5),\n",
       " ('Failure (drone ship)', 5),\n",
       " ('Success (ground pad)', 3),\n",
       " ('Controlled (ocean)', 3),\n",
       " ('Uncontrolled (ocean)', 2),\n",
       " ('Failure (parachute)', 2),\n",
       " ('Precluded (drone ship)', 1)]"
      ]
     },
     "execution_count": 21,
     "metadata": {},
     "output_type": "execute_result"
    }
   ],
   "source": [
    "%%sql\n",
    "-- Task 10: Count of each landing outcome between 2010-06-04 and 2017-03-20, ranked descending\n",
    "SELECT\n",
    "  \"Landing_Outcome\",\n",
    "  COUNT(*) AS outcome_count\n",
    "FROM SPACEXTABLE\n",
    "WHERE \"Date\" BETWEEN '2010-06-04' AND '2017-03-20'\n",
    "GROUP BY \"Landing_Outcome\"\n",
    "ORDER BY outcome_count DESC;\n"
   ]
  },
  {
   "cell_type": "markdown",
   "metadata": {},
   "source": [
    "### Reference Links\n",
    "\n",
    "* <a href =\"https://cf-courses-data.s3.us.cloud-object-storage.appdomain.cloud/IBMDeveloperSkillsNetwork-DB0201EN-SkillsNetwork/labs/Labs_Coursera_V5/labs/Lab%20-%20String%20Patterns%20-%20Sorting%20-%20Grouping/instructional-labs.md.html?origin=www.coursera.org\">Hands-on Lab : String Patterns, Sorting and Grouping</a>  \n",
    "\n",
    "*  <a  href=\"https://cf-courses-data.s3.us.cloud-object-storage.appdomain.cloud/IBMDeveloperSkillsNetwork-DB0201EN-SkillsNetwork/labs/Labs_Coursera_V5/labs/Lab%20-%20Built-in%20functions%20/Hands-on_Lab__Built-in_Functions.md.html?origin=www.coursera.org\">Hands-on Lab: Built-in functions</a>\n",
    "\n",
    "*  <a  href=\"https://cf-courses-data.s3.us.cloud-object-storage.appdomain.cloud/IBMDeveloperSkillsNetwork-DB0201EN-SkillsNetwork/labs/Labs_Coursera_V5/labs/Lab%20-%20Sub-queries%20and%20Nested%20SELECTs%20/instructional-labs.md.html?origin=www.coursera.org\">Hands-on Lab : Sub-queries and Nested SELECT Statements</a>\n",
    "\n",
    "*   <a href=\"https://cf-courses-data.s3.us.cloud-object-storage.appdomain.cloud/IBMDeveloperSkillsNetwork-DB0201EN-SkillsNetwork/labs/Module%205/DB0201EN-Week3-1-3-SQLmagic.ipynb\">Hands-on Tutorial: Accessing Databases with SQL magic</a>\n",
    "\n",
    "*  <a href= \"https://cf-courses-data.s3.us.cloud-object-storage.appdomain.cloud/IBMDeveloperSkillsNetwork-DB0201EN-SkillsNetwork/labs/Module%205/DB0201EN-Week3-1-4-Analyzing.ipynb\">Hands-on Lab: Analyzing a real World Data Set</a>\n",
    "\n",
    "\n"
   ]
  },
  {
   "cell_type": "markdown",
   "metadata": {},
   "source": [
    "## Author(s)\n",
    "\n",
    "<h4> Lakshmi Holla </h4>\n"
   ]
  },
  {
   "cell_type": "markdown",
   "metadata": {},
   "source": [
    "## Other Contributors\n",
    "\n",
    "<h4> Rav Ahuja </h4>\n"
   ]
  },
  {
   "cell_type": "markdown",
   "metadata": {},
   "source": [
    "<!--\n",
    "## Change log\n",
    "| Date | Version | Changed by | Change Description |\n",
    "|------|--------|--------|---------|\n",
    "| 2024-07-10 | 1.1 |Anita Verma | Changed Version|\n",
    "| 2021-07-09 | 0.2 |Lakshmi Holla | Changes made in magic sql|\n",
    "| 2021-05-20 | 0.1 |Lakshmi Holla | Created Initial Version |\n",
    "-->\n"
   ]
  },
  {
   "cell_type": "markdown",
   "metadata": {},
   "source": [
    "## <h3 align=\"center\"> © IBM Corporation 2021. All rights reserved. <h3/>\n"
   ]
  }
 ],
 "metadata": {
  "kernelspec": {
   "display_name": "Python 3 (ipykernel)",
   "language": "python",
   "name": "python3"
  },
  "language_info": {
   "codemirror_mode": {
    "name": "ipython",
    "version": 3
   },
   "file_extension": ".py",
   "mimetype": "text/x-python",
   "name": "python",
   "nbconvert_exporter": "python",
   "pygments_lexer": "ipython3",
   "version": "3.12.1"
  },
  "prev_pub_hash": "12df46c3b0654f639da96fac3e05f156ee105e47e0c79adacb1892bc327713de"
 },
 "nbformat": 4,
 "nbformat_minor": 4
}
